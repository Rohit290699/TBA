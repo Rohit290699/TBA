{
 "cells": [
  {
   "cell_type": "code",
   "execution_count": 1,
   "id": "400755cd",
   "metadata": {},
   "outputs": [
    {
     "name": "stdout",
     "output_type": "stream",
     "text": [
      "Hello\n"
     ]
    }
   ],
   "source": [
    "## Printing the value \n",
    "\n",
    "a = \"Hello\"\n",
    "print(a)"
   ]
  },
  {
   "cell_type": "code",
   "execution_count": 2,
   "id": "47ec4c1a",
   "metadata": {},
   "outputs": [
    {
     "name": "stdout",
     "output_type": "stream",
     "text": [
      "e\n",
      "llo\n"
     ]
    }
   ],
   "source": [
    "a = \"Hello, World!\"\n",
    "print(a[1]) \n",
    "b = \"Hello, World!\"\n",
    "## Printing the substring starting from index 2 up to index 4 of the string 'b', which is \"llo\".\n",
    "\n",
    "print(b[2:5])"
   ]
  },
  {
   "cell_type": "code",
   "execution_count": 3,
   "id": "8975d233",
   "metadata": {},
   "outputs": [
    {
     "name": "stdout",
     "output_type": "stream",
     "text": [
      "13\n",
      "HELLO, WORLD!\n",
      "hello, world!\n",
      "Jello, World!\n"
     ]
    }
   ],
   "source": [
    "a = \"Hello, World!\"\n",
    "print(len(a))\n",
    "#print upper case values\n",
    "print(a.upper())\n",
    "#print upper case values\n",
    "print(a.lower())\n",
    "# Printing the string 'a' with all occurrences of \"H\" replaced by \"J\".\n",
    "print(a.replace(\"H\", \"J\"))"
   ]
  },
  {
   "cell_type": "code",
   "execution_count": 4,
   "id": "1ac9092d",
   "metadata": {},
   "outputs": [
    {
     "name": "stdout",
     "output_type": "stream",
     "text": [
      "HELLO World\n"
     ]
    }
   ],
   "source": [
    "a = \"HELLO\"\n",
    "b= \"World\"\n",
    "# Concatenating the strings 'a', a space char, and 'b', and assigning the result to the variable 'c'.\n",
    "c= a + \" \" + b \n",
    "print(c) "
   ]
  },
  {
   "cell_type": "code",
   "execution_count": 5,
   "id": "4698ea37",
   "metadata": {},
   "outputs": [
    {
     "name": "stdout",
     "output_type": "stream",
     "text": [
      "R\n",
      "o\n",
      "h\n",
      "i\n",
      "t\n",
      " \n",
      "A\n",
      "d\n",
      "i\n",
      "k\n",
      "e\n"
     ]
    }
   ],
   "source": [
    "a = \"Rohit Adike\"\n",
    "# Iterating over each character in the string 'a' and printing each character.\n",
    "for ch in a:\n",
    "    print(ch)"
   ]
  },
  {
   "cell_type": "code",
   "execution_count": 6,
   "id": "6dbea337",
   "metadata": {},
   "outputs": [
    {
     "data": {
      "text/plain": [
       "' Roses are not lillies'"
      ]
     },
     "execution_count": 6,
     "metadata": {},
     "output_type": "execute_result"
    }
   ],
   "source": [
    "quote = \" Roses are not lillies\"\n",
    "quote[:]\n"
   ]
  },
  {
   "cell_type": "code",
   "execution_count": 7,
   "id": "4152c5b6",
   "metadata": {},
   "outputs": [
    {
     "data": {
      "text/plain": [
       "True"
      ]
     },
     "execution_count": 7,
     "metadata": {},
     "output_type": "execute_result"
    }
   ],
   "source": [
    "# Check if the substring f1 is present in the string quote\n",
    "\n",
    "f1 = \"Rose\"\n",
    "f2 = \"lillies\"\n",
    "f1 in quote "
   ]
  },
  {
   "cell_type": "code",
   "execution_count": 8,
   "id": "fbecd1f9",
   "metadata": {},
   "outputs": [
    {
     "data": {
      "text/plain": [
       "True"
      ]
     },
     "execution_count": 8,
     "metadata": {},
     "output_type": "execute_result"
    }
   ],
   "source": [
    "f1 not in f2 \n",
    "# Check if f1 is not a substring of f2\n",
    "\n"
   ]
  },
  {
   "cell_type": "code",
   "execution_count": 9,
   "id": "284baa63",
   "metadata": {},
   "outputs": [
    {
     "data": {
      "text/plain": [
       "False"
      ]
     },
     "execution_count": 9,
     "metadata": {},
     "output_type": "execute_result"
    }
   ],
   "source": [
    "# Check if all characters in quote are lowercase\n",
    "quote.islower()"
   ]
  },
  {
   "cell_type": "code",
   "execution_count": 10,
   "id": "c7f2e747",
   "metadata": {},
   "outputs": [
    {
     "name": "stdout",
     "output_type": "stream",
     "text": [
      "['1', '2', '3', '4', '5']\n"
     ]
    }
   ],
   "source": [
    "# Splitting the string using whitespace as the separator\n",
    "myString=\"1 2 3 4 5\"\n",
    "print(myString.split())"
   ]
  },
  {
   "cell_type": "code",
   "execution_count": 14,
   "id": "052d36ad",
   "metadata": {},
   "outputs": [
    {
     "name": "stdout",
     "output_type": "stream",
     "text": [
      "['1', '2', '3', '4', '5']\n"
     ]
    }
   ],
   "source": [
    "# Splitting the string using '/' as the separator\n",
    "myString=\"1/2/3/4/5\"\n",
    "print(myString.split('/'))"
   ]
  },
  {
   "cell_type": "code",
   "execution_count": null,
   "id": "28e594a3",
   "metadata": {},
   "outputs": [],
   "source": []
  }
 ],
 "metadata": {
  "kernelspec": {
   "display_name": "Python 3 (ipykernel)",
   "language": "python",
   "name": "python3"
  },
  "language_info": {
   "codemirror_mode": {
    "name": "ipython",
    "version": 3
   },
   "file_extension": ".py",
   "mimetype": "text/x-python",
   "name": "python",
   "nbconvert_exporter": "python",
   "pygments_lexer": "ipython3",
   "version": "3.9.12"
  }
 },
 "nbformat": 4,
 "nbformat_minor": 5
}
