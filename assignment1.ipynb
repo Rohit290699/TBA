{
 "cells": [
  {
   "cell_type": "markdown",
   "id": "beef1d40",
   "metadata": {},
   "source": [
    "# String variable"
   ]
  },
  {
   "cell_type": "code",
   "execution_count": 2,
   "id": "1b07e55e",
   "metadata": {},
   "outputs": [
    {
     "name": "stdout",
     "output_type": "stream",
     "text": [
      "Slice 1: textb\n",
      "Slice 2: seda\n",
      "Slice 3: dana\n"
     ]
    }
   ],
   "source": [
    "# Initialize a string variable\n",
    "text = \"textbasedanalysis\"\n",
    "\n",
    "# Slice the string from index 0 to 5 (not including 5) and store it in slice1\n",
    "slice1 = text[0:5] \n",
    "# Slice the string from index 6 to 10 (not including 10) and store it in slice2\n",
    "slice2 = text[6:10] \n",
    "# Slice the string from index 8 to 12 (not including 12) and store it in slice3\n",
    "slice3 = text[8:12] # Extracts \"dana\"\n",
    "\n",
    "# Print the results of the slicing\n",
    "print(\"Slice 1:\", slice1) \n",
    "print(\"Slice 2:\", slice2) \n",
    "print(\"Slice 3:\", slice3) "
   ]
  },
  {
   "cell_type": "markdown",
   "id": "eb8fdd77",
   "metadata": {},
   "source": [
    "## Regular Expression"
   ]
  },
  {
   "cell_type": "markdown",
   "id": "001bdde0",
   "metadata": {},
   "source": [
    "Basic re operations"
   ]
  },
  {
   "cell_type": "markdown",
   "id": "0ea943d6",
   "metadata": {},
   "source": [
    "Using re.findall()"
   ]
  },
  {
   "cell_type": "code",
   "execution_count": 4,
   "id": "b7c89420",
   "metadata": {},
   "outputs": [
    {
     "name": "stdout",
     "output_type": "stream",
     "text": [
      "['abc', 'abc', 'abc', 'abc', 'abc']\n"
     ]
    }
   ],
   "source": [
    "import re\n",
    "\n",
    "def tokenize(text):\n",
    "    return re.findall(r'abc', text)\n",
    "\n",
    "x = tokenize(\"abcd 45abc abc% abc.com acbrx .=.abc.=. ab c cba ABC\")\n",
    "print(x)\n"
   ]
  },
  {
   "cell_type": "code",
   "execution_count": 12,
   "id": "93902c4e",
   "metadata": {},
   "outputs": [
    {
     "name": "stdout",
     "output_type": "stream",
     "text": [
      "['abc', 'xyz', 'xyz']\n"
     ]
    }
   ],
   "source": [
    "import regex as re\n",
    "def tokenize(text):\n",
    "    return re.findall(r'abc|xyz', text)\n",
    "x = tokenize(\"abcd xsdxyz xyz derf\")\n",
    "print(x)"
   ]
  },
  {
   "cell_type": "markdown",
   "id": "d6b8f5ac",
   "metadata": {},
   "source": [
    "Capturing the required data"
   ]
  },
  {
   "cell_type": "code",
   "execution_count": 10,
   "id": "400c79c0",
   "metadata": {},
   "outputs": [
    {
     "name": "stdout",
     "output_type": "stream",
     "text": [
      "Email addresses found:\n",
      "sacredheart@gmail.edu\n",
      "support@shu.org\n",
      "shu@office.com\n"
     ]
    }
   ],
   "source": [
    "import re\n",
    "\n",
    "pattern = r'\\b[A-Za-z0-9._%+-]+@[A-Za-z0-9.-]+\\.[A-Z|a-z]{2,}\\b'\n",
    "\n",
    "# Sample text to search for email addresses\n",
    "text = \"Contact us at sacredheart@gmail.edu or support@shu.org or  website shu@office.com ,shu.com\"\n",
    "\n",
    "# Search for email addresses using the regular expression\n",
    "matches = re.findall(pattern, text)\n",
    "\n",
    "# Print the matches found\n",
    "print(\"Email addresses found:\")\n",
    "for match in matches:\n",
    "    print(match)\n"
   ]
  },
  {
   "cell_type": "code",
   "execution_count": 17,
   "id": "3a4a14fb",
   "metadata": {},
   "outputs": [
    {
     "name": "stdout",
     "output_type": "stream",
     "text": [
      "['tom ray']\n",
      "[]\n"
     ]
    }
   ],
   "source": [
    "import re\n",
    "\n",
    "def tokenize1(text):\n",
    "    # This function searches for either \"joe ray\" or \"tom ray\" in the text.\n",
    "    return re.findall(r'joe ray|tom ray', text)\n",
    "\n",
    "def tokenize2(text):\n",
    "    # This function searches for either \"joe ray\" or \"tom ray\" with capture groups around \"joe\" or \"tom\".\n",
    "    return re.findall(r'(joe|tom) ray', text)\n",
    "\n",
    "# Test the functions\n",
    "x = tokenize1(\"joe Williams ray tom ray\")\n",
    "print(x)\n",
    "\n",
    "x = tokenize2(\"joe Williams ray tom norwalk\")\n",
    "print(x)\n"
   ]
  }
 ],
 "metadata": {
  "kernelspec": {
   "display_name": "Python 3 (ipykernel)",
   "language": "python",
   "name": "python3"
  },
  "language_info": {
   "codemirror_mode": {
    "name": "ipython",
    "version": 3
   },
   "file_extension": ".py",
   "mimetype": "text/x-python",
   "name": "python",
   "nbconvert_exporter": "python",
   "pygments_lexer": "ipython3",
   "version": "3.9.12"
  }
 },
 "nbformat": 4,
 "nbformat_minor": 5
}
